{
 "cells": [
  {
   "cell_type": "code",
   "execution_count": 2,
   "metadata": {},
   "outputs": [
    {
     "ename": "SyntaxError",
     "evalue": "invalid syntax (<ipython-input-2-b1e349f22715>, line 5)",
     "output_type": "error",
     "traceback": [
      "\u001b[0;36m  File \u001b[0;32m\"<ipython-input-2-b1e349f22715>\"\u001b[0;36m, line \u001b[0;32m5\u001b[0m\n\u001b[0;31m    plt.imshow (gray_im, cmap = \"grey\", vim = =, vmin = 255)\u001b[0m\n\u001b[0m                                              ^\u001b[0m\n\u001b[0;31mSyntaxError\u001b[0m\u001b[0;31m:\u001b[0m invalid syntax\n"
     ]
    }
   ],
   "source": [
    "# Convertir l'image en niveaux de gris \n",
    "gray_im = cv.cvtColor (original, cv.COLOR_BGR2GRAY) \n",
    "plt.subplot (221) \n",
    "plt.title ('Image en niveaux de gris') \n",
    "plt.imshow (gray_im, cmap = \"grey\", vim = =, vmin = 255) \n",
    "\n",
    "\n",
    "# Réglage du contraste avec correction gamma y = 1,2 \n",
    "\n",
    "grey_correct = np.array (255 * (grey_im / 255) ** 1.2, dtype = 'uint8') \n",
    "plt.subplot (222) \n",
    "plt.title ('Gamma Correction y = 1.2 ') \n",
    "plt.imshow (grey_correct, cmap = \"grey\", vmin = 0, vmax = 255) \n",
    "\n",
    "# Réglage du contraste avec égalisation de l'histogramme \n",
    "gris_equ = cv.equalizeHist (grey_im) \n",
    "plt.subplot (223) \n",
    "plt.title (' Equilibrage de l'histogramme ' ) \n",
    "plt.imshow (grey_correct, cmap = \"grey\", vmin = 0, vmax = 255)\n",
    "           \n",
    "# Seuil adaptatif local \n",
    "\n",
    "thresh = cv.adaptiveThreshold (gray_correct, 255, cv.ADAPTIVE_THRESH_GAUSSIAN_C, cv.THRESH_BINARY, 255, 19) \n",
    "thresh = cv.bitwise_not (thresh) plt.subplot (221) \n",
    "plt.titt () \n",
    "plt.imshow (thresh, cmap = \"gris\", vmin = 0, vmax = 255)\n",
    "\n",
    "# Dilatation et érosion \n",
    "noyau = np.ones ((15,15), np.uint8) \n",
    "img_dilation = cv.dilate (thresh, noyau, itérations = 1) \n",
    "img_erode = cv.erode (img_dilation, noyau, itérations = 1) \n",
    "           \n",
    "# clean tout bruit après dilatation et érosion \n",
    "img_erode = cv.medianBlur (img_erode, 7) \n",
    "plt.subplot (221) \n",
    "plt.title ('Dilatation + érosion') \n",
    "plt.imshow (img_erode, cmap = \"grey\", vmin = 0, vmax = 255)\n",
    "           \n",
    "# Labeling \n",
    "ret, labels = cv.connectedComponents (img_erode) \n",
    "label_hue = np.uint8 (179 * labels / np.max (labels)) \n",
    "blank_ch = 255 * np.ones_like (label_hue) \n",
    "Label_img = cv.merge ([label_hue, blank_ch, blank_ch]) \n",
    "Label_img = cv.cvtColor (Label_img, cv.COLOR_HSV2BGR) \n",
    "Label_img [label_hue == 0] = 0 \n",
    "\n",
    "plt.subplot (222) \n",
    "plt.title ('Objets comptés:' + str (ret-1)) \n",
    "plt.imshow (label_img) \n",
    "print ('le nombre d'objets est:', ret-1) \n",
    "plt.show ()\n"
   ]
  },
  {
   "cell_type": "code",
   "execution_count": null,
   "metadata": {
    "collapsed": true
   },
   "outputs": [],
   "source": []
  }
 ],
 "metadata": {
  "kernelspec": {
   "display_name": "Python 3",
   "language": "python",
   "name": "python3"
  },
  "language_info": {
   "codemirror_mode": {
    "name": "ipython",
    "version": 3
   },
   "file_extension": ".py",
   "mimetype": "text/x-python",
   "name": "python",
   "nbconvert_exporter": "python",
   "pygments_lexer": "ipython3",
   "version": "3.5.4"
  }
 },
 "nbformat": 4,
 "nbformat_minor": 2
}
